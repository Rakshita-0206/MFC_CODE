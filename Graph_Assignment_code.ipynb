{
 "cells": [
  {
   "cell_type": "markdown",
   "id": "5a2875bd",
   "metadata": {},
   "source": [
    "<h3>🔢 Degree Calculation in Directed Graph\n",
    "The following function calculates the total degree (incoming + outgoing) of each node in a directed graph, given an adjacency list.</h3>\n",
    "<h5>QUESTION: Write a code to find the degree of each vertex, and store it in a dictionary. Sort the keys of the dictionary by the degree stored in the values.</h5>\n",
    "\n",
    "#### ✅ Function Explanation:\n",
    "#### Outgoing Degree: Number of edges going out from a node  ####\n",
    "\n",
    "#### Incoming Degree: Number of edges coming into a node  ####\n",
    "\n",
    "#### For each node in the list, we compute both and store the sum in a dictionary ####\n",
    "\n"
   ]
  },
  {
   "cell_type": "code",
   "execution_count": null,
   "id": "9d9f1399",
   "metadata": {},
   "outputs": [
    {
     "data": {
      "text/plain": [
       "{'s1': 4, 's2': 5, 's3': 3, 's4': 2, 's5': 4}"
      ]
     },
     "execution_count": 3,
     "metadata": {},
     "output_type": "execute_result"
    }
   ],
   "source": [
    "\n",
    "def cal_degree_directed(adjancey_list, node):\n",
    "    dict_degree = {}  # This dictionary will store the total degree for each node.\n",
    "\n",
    "    for nodes in node:\n",
    "        outgoing_degree = 0  # I will use this to count how many edges are going out from the node.\n",
    "        incoming_degree = 0  # This will count how many edges are coming into the node.\n",
    "\n",
    "        # First, I check how many nodes are directly reachable from this node (i.e., outgoing edges).\n",
    "        for key, value in adjancey_list.items():\n",
    "            if key == nodes:\n",
    "                outgoing_degree = len(adjancey_list[nodes])  # just count how many neighbors it has\n",
    "\n",
    "        # Now, I go through the whole adjacency list again to check how many times this node appears in other node’s list.\n",
    "        # That tells me how many edges are coming to this node.\n",
    "        for key, value in adjancey_list.items():\n",
    "            if nodes in value:\n",
    "                incoming_degree += 1\n",
    "\n",
    "        # Total degree for a directed graph is the sum of incoming and outgoing.\n",
    "        degree = incoming_degree + outgoing_degree\n",
    "\n",
    "        # Storing the final degree of this node in the dictionary\n",
    "        dict_degree[nodes] = degree\n",
    "\n",
    "    # Returning the dictionary containing degrees of all nodes.\n",
    "    return dict_degree\n",
    "\n",
    "# Here is the sample graph I’m testing with.\n",
    "# It’s a directed graph where each node points to a list of other nodes.\n",
    "adjancey_list = {\n",
    "    's1': ['s2', 's5'],\n",
    "    's2': ['s1', 's5'],\n",
    "    's3': ['s2', 's4'],\n",
    "    's4': ['s3'],\n",
    "    's5': ['s1', 's2']\n",
    "}\n",
    "\n",
    "# This is the list of all the nodes for which I want to find degrees.\n",
    "node = ['s1', 's2', 's3', 's4', 's5']\n",
    "\n",
    "# Calling the function to calculate and return the degrees.\n",
    "cal_degree_directed(adjancey_list, node)\n"
   ]
  },
  {
   "cell_type": "markdown",
   "id": "1c058bed",
   "metadata": {},
   "source": [
    "\n",
    "### Question 2.Write a code to inter-convert the 3 graph representations we have learnt. ###\n",
    "\n",
    "\n",
    "<h5>🔄 Adjacency List ➡️ Edge List Conversion\n",
    "We convert the graph structure from adjacency list to edge list format for both:<h5>\n",
    "\n",
    "<h5>🔗 Undirected Graph\n",
    "Each edge is unordered (i.e., (A, B) is same as (B, A)).\n",
    "\n",
    "To avoid duplicate edges, we use a set and store sorted tuples.<h5>\n",
    "<h5>🔁 Directed Graph\n",
    "Each edge is ordered (i.e., direction matters).\n",
    "\n",
    "Simply append the pair (from, to) to the list.</h5>"
   ]
  },
  {
   "cell_type": "code",
   "execution_count": 4,
   "id": "7fc07dbf",
   "metadata": {},
   "outputs": [
    {
     "name": "stdout",
     "output_type": "stream",
     "text": [
      "undirected_edge_list: [('s1', 's2'), ('s2', 's3'), ('s3', 's4'), ('s1', 's5'), ('s2', 's5')]\n"
     ]
    }
   ],
   "source": [
    "# This function converts an undirected graph's adjacency list into an edge list.\n",
    "# Since it's undirected, each edge should appear only once (e.g., ('s1','s2') not both ('s1','s2') and ('s2','s1'))\n",
    "def adjancey_to_edge_undirected(adjancey_list):\n",
    "    edge_list = set()  # I used a set to automatically avoid duplicate edges.\n",
    "\n",
    "    # Going through each node in the adjacency list\n",
    "    for key in adjancey_list:  \n",
    "        value = adjancey_list[key]  # Getting the neighbors of the current node\n",
    "\n",
    "        # Looping through all neighbors of this node\n",
    "        for values in value:\n",
    "            # I used sorted tuple because ('s1','s2') and ('s2','s1') should be treated the same in undirected graphs\n",
    "            edge_list.add(tuple(sorted((key, values))))    \n",
    "\n",
    "    # Converting set to list so it's easier to work with or print\n",
    "    edge_list = list(edge_list)\n",
    "    print(\"undirected_edge_list:\", edge_list)  \n",
    "\n",
    "# This is my undirected graph where connections go both ways.\n",
    "adjacency_list = {\n",
    "    's1': ['s2', 's5'], \n",
    "    's2': ['s1', 's5'],\n",
    "    's3': ['s2', 's4'],\n",
    "    's4': ['s3'],\n",
    "    's5': ['s2', 's1']\n",
    "}\n",
    "\n",
    "# Calling the function for undirected graph\n",
    "adjancey_to_edge_undirected(adjacency_list)\n"
   ]
  },
  {
   "cell_type": "markdown",
   "id": "478d6127",
   "metadata": {},
   "source": [
    "<h5> 🔁 Edge List ➡️ Adjacency List (Directed & Undirected)\n",
    "🧠 This function converts a list of edges into an adjacency list. It works for both directed and undirected graphs based on the input edge list.<h5>\n",
    "\n",
    "⚙️ Logic:\n",
    "Loop through each edge (u, v) in the list.\n",
    "\n",
    "If u is not in the adjacency list, add it.\n",
    "\n",
    "Append each destination node v to the list of u.\n"
   ]
  },
  {
   "cell_type": "code",
   "execution_count": 9,
   "id": "0299dc70",
   "metadata": {},
   "outputs": [
    {
     "name": "stdout",
     "output_type": "stream",
     "text": [
      "{'s1': ['s2', 's5'], 's2': ['s5', 's1'], 's3': ['s2', 's4'], 's4': ['s3'], 's5': ['s1', 's2']}\n"
     ]
    }
   ],
   "source": [
    "# This function converts a directed edge list to an adjacency list.\n",
    "# Each edge in the edge list is a tuple like ('s1', 's2') representing a directed edge from s1 to s2.\n",
    "\n",
    "def edge_to_adjancey_list_directed(edge_list):\n",
    "    adjacency_list = {}  # I will store the result here, mapping each node to its list of neighbors.\n",
    "    l = len(edge_list)  # Total number of edges in the list\n",
    "\n",
    "    for i in range(l): \n",
    "        u = edge_list[i][0]      # u is the source node (from where the edge starts)\n",
    "        v = edge_list[i][1:]     # v is a tuple with destination node(s), usually just one (to where the edge goes)\n",
    "\n",
    "        # If the source node is not yet in the adjacency list, I add it with an empty list\n",
    "        if u not in adjacency_list:\n",
    "            adjacency_list[u] = []\n",
    "\n",
    "        # Adding all destination nodes from v to the source node u's list\n",
    "        # Even though v usually has only one node, I used a loop in case v has multiple targets (for generality)\n",
    "        for key in v:  \n",
    "            adjacency_list[u].append(key) \n",
    "\n",
    "        # (Optional) This creates a list of all keys in the current adjacency list, but we are not using it.\n",
    "        keys_list = list(adjacency_list.keys())  \n",
    "\n",
    "    return adjacency_list  # Finally returning the adjacency list I built\n",
    "edge_list = [\n",
    "    ('s1', 's2'),\n",
    "    ('s2', 's5'),\n",
    "    ('s3', 's2'),\n",
    "    ('s4', 's3'),\n",
    "    ('s5', 's1'),\n",
    "    ('s1', 's5'),\n",
    "    ('s2', 's1'),\n",
    "    ('s3', 's4'),\n",
    "    ('s5', 's2')\n",
    "]\n",
    "print(edge_to_adjancey_list_directed(edge_list))"
   ]
  },
  {
   "cell_type": "markdown",
   "id": "f9996835",
   "metadata": {},
   "source": [
    "🧮 Edge List ➡️ Adjacency Matrix (Directed & Undirected)\n",
    "🔗 Undirected Graph\n",
    "This function takes an edge list and node list and creates an adjacency matrix where:\n",
    "\n",
    "Each cell (i, j) is marked 1 if there's an edge between nodes i and j.\n",
    "\n",
    "Since it's undirected, we mark both (i, j) and (j, i).\n",
    "\n",
    "➡️ Directed Graph\n",
    "In a directed graph, an edge from u → v only updates the cell (u, v)."
   ]
  },
  {
   "cell_type": "code",
   "execution_count": 10,
   "id": "973e75f6",
   "metadata": {},
   "outputs": [
    {
     "name": "stdout",
     "output_type": "stream",
     "text": [
      "undirected matrix\n",
      "[0, 1, 0, 0, 1]\n",
      "[1, 0, 1, 0, 1]\n",
      "[0, 1, 0, 1, 0]\n",
      "[0, 0, 1, 0, 0]\n",
      "[1, 1, 0, 0, 0]\n",
      "Directed Matrix\n",
      "[0, 1, 0, 0, 1]\n",
      "[1, 0, 0, 0, 1]\n",
      "[0, 1, 0, 1, 0]\n",
      "[0, 0, 1, 0, 0]\n",
      "[1, 1, 0, 0, 0]\n"
     ]
    }
   ],
   "source": [
    "# Function to convert an undirected edge list into an adjacency matrix\n",
    "def edge_list_matrix_undirected(edge_list, nodes, weight=1):\n",
    "    # Initialize a square matrix of size len(nodes) with all values as 0\n",
    "    matrix = [[0] * len(nodes) for _ in range(len(nodes))]\n",
    "    \n",
    "    # Loop through each edge in the edge list\n",
    "    for i in range(len(edge_list)):\n",
    "        u = edge_list[i][0]  # Get the first node of the edge (source)\n",
    "        neighbors_node = edge_list[i][1:]  # Get the connected nodes (targets)\n",
    "\n",
    "        # Loop through each neighbor to form edges\n",
    "        for v in neighbors_node: \n",
    "            # Find the index of the nodes in the nodes list\n",
    "            for j in range(len(nodes)):   \n",
    "                if nodes[j] == u:\n",
    "                    row = j \n",
    "                if nodes[j] == v: \n",
    "                    col = j \n",
    "            # Since it's undirected, mark both [row][col] and [col][row]\n",
    "            matrix[row][col] = weight \n",
    "            matrix[col][row] = weight  \n",
    "    return matrix\n",
    "\n",
    "# Define undirected edge list and list of nodes\n",
    "edge_list = [('s1', 's2', 's5'), ('s2', 's5', 's1'), ('s3', 's2', 's4'), ('s4', 's3'), ('s5', 's1', 's2')]\n",
    "nodes = ['s1', 's2', 's3', 's4', 's5']\n",
    "\n",
    "# Print the undirected matrix\n",
    "print(\"undirected matrix\")\n",
    "for row in edge_list_matrix_undirected(edge_list, nodes):\n",
    "    print(row)\n",
    "\n",
    "# Function to convert a directed edge list into an adjacency matrix\n",
    "def edge_list_matrix_directed(edge_list, nodes, weight=1):\n",
    "    n = len(nodes)\n",
    "    # Initialize a square matrix with zeros\n",
    "    matrix = [[0] * n for _ in range(n)]\n",
    "\n",
    "    # Loop through each edge\n",
    "    for i in range(len(edge_list)):\n",
    "        u = edge_list[i][0]  # Get the source node\n",
    "        neighbors = edge_list[i][1:]  # Get the destination nodes\n",
    "\n",
    "        # For each neighbor, set the matrix value to the given weight\n",
    "        for v in neighbors:\n",
    "            # Find the index positions of u and v\n",
    "            for j in range(n):\n",
    "                if nodes[j] == u:\n",
    "                    row = j\n",
    "                if nodes[j] == v:\n",
    "                    col = j\n",
    "            # Since it's directed, only mark [row][col]\n",
    "            matrix[row][col] = weight\n",
    "    return matrix\n",
    "\n",
    "# Define directed edge list and nodes\n",
    "edge_list = [('s1', 's2', 's5'), ('s2', 's5', 's1'), ('s3', 's2', 's4'), ('s4', 's3'), ('s5', 's1', 's2')]\n",
    "nodes = ['s1', 's2', 's3', 's4', 's5']\n",
    "\n",
    "# Print the directed matrix\n",
    "print(\"Directed Matrix\")\n",
    "for row in edge_list_matrix_directed(edge_list, nodes):\n",
    "    print(row)\n"
   ]
  },
  {
   "cell_type": "markdown",
   "id": "9a0e9089",
   "metadata": {},
   "source": [
    "<h5>🧮 Adjacency List ➝ Adjacency Matrix Conversion (Undirected & Directed)\n",
    "This code converts a graph from its adjacency list representation to an adjacency matrix, both for undirected and directed graphs.<h5>\n",
    "\n",
    "🔁 Functions:\n",
    "adj_list_to_matrix_undir(adj_list, nodes, weight=1)\n",
    "Converts an undirected graph's adjacency list to a symmetric adjacency matrix.\n",
    "\n",
    "adj_list_to_matrix_dir(adj_list, nodes, weight=1)\n",
    "Converts a directed graph's adjacency list to an adjacency matrix (non-symmetric)."
   ]
  },
  {
   "cell_type": "code",
   "execution_count": 11,
   "id": "f8036ab4",
   "metadata": {},
   "outputs": [
    {
     "name": "stdout",
     "output_type": "stream",
     "text": [
      "undirected matrix\n",
      "[0, 1, 0, 0, 1]\n",
      "[1, 0, 1, 0, 1]\n",
      "[0, 1, 0, 1, 0]\n",
      "[0, 0, 1, 0, 0]\n",
      "[1, 1, 0, 0, 0]\n",
      "directed matrix\n",
      "[0, 1, 0, 0, 1]\n",
      "[1, 0, 0, 0, 1]\n",
      "[0, 1, 0, 1, 0]\n",
      "[0, 0, 1, 0, 0]\n",
      "[1, 1, 0, 0, 0]\n"
     ]
    }
   ],
   "source": [
    "# Function to convert an undirected adjacency list to an adjacency matrix\n",
    "def adj_list_to_matrix_undir(adj_list, nodes, weight=1):\n",
    "    n = len(nodes)\n",
    "    # Create an n x n matrix initialized with 0s\n",
    "    matrix = [[0] * n for _ in range(n)]\n",
    "\n",
    "    # Convert the dictionary into lists of keys and values\n",
    "    list_key = list(adj_list.keys())\n",
    "    list_value = list(adj_list.values())\n",
    "    \n",
    "    # Loop over each key (node) in the adjacency list\n",
    "    for i in range(len(list_key)):\n",
    "        key = list_key[i]         # Current node\n",
    "        value = list_value[i]     # Its neighbors\n",
    "    \n",
    "        # Find the index of the current node in the nodes list\n",
    "        row = -1\n",
    "        for j in range(len(nodes)):\n",
    "            if nodes[j] == key:\n",
    "                row = j\n",
    "                break\n",
    "        \n",
    "        # For each neighbor, find its index and update the matrix\n",
    "        for neighbor in value:\n",
    "            col = -1\n",
    "            for j in range(len(nodes)):\n",
    "                if nodes[j] == neighbor:\n",
    "                    col = j\n",
    "                    break\n",
    "            # Since the graph is undirected, update both [row][col] and [col][row]\n",
    "            matrix[row][col] = weight\n",
    "            matrix[col][row] = weight\n",
    "    \n",
    "    return matrix\n",
    "\n",
    "# Function to convert a directed adjacency list to an adjacency matrix\n",
    "def adj_list_to_matrix_dir(adj_list, nodes, weight=1):\n",
    "    n = len(nodes)\n",
    "    # Create an n x n matrix initialized with 0s\n",
    "    matrix = [[0] * n for _ in range(n)]\n",
    "\n",
    "    # Convert dictionary into lists of keys and values\n",
    "    list_key = list(adj_list.keys())\n",
    "    list_value = list(adj_list.values())\n",
    "    \n",
    "    # Loop over each node and its neighbors\n",
    "    for i in range(len(list_key)):\n",
    "        key = list_key[i]         # Current node\n",
    "        value = list_value[i]     # Its neighbors\n",
    "    \n",
    "        # Find the index of the current node\n",
    "        row = -1\n",
    "        for j in range(len(nodes)):\n",
    "            if nodes[j] == key:\n",
    "                row = j\n",
    "                break\n",
    "        \n",
    "        # For each neighbor, find its index and set only [row][col]\n",
    "        for neighbor in value:\n",
    "            col = -1\n",
    "            for j in range(len(nodes)):\n",
    "                if nodes[j] == neighbor:\n",
    "                    col = j\n",
    "                    break\n",
    "            # Since it's a directed graph, only one direction is updated\n",
    "            matrix[row][col] = weight\n",
    "    \n",
    "    return matrix\n",
    "\n",
    "# Sample adjacency list and node list\n",
    "adj_list = {\n",
    "    's1': ['s2', 's5'],\n",
    "    's2': ['s1', 's5'],\n",
    "    's3': ['s2', 's4'],\n",
    "    's4': ['s3'],\n",
    "    's5': ['s1', 's2']\n",
    "}\n",
    "nodes = ['s1', 's2', 's3', 's4', 's5']\n",
    "\n",
    "# Print the undirected adjacency matrix\n",
    "print(\"undirected matrix\")\n",
    "for row in adj_list_to_matrix_undir(adj_list, nodes):\n",
    "    print(row)\n",
    "\n",
    "# Print the directed adjacency matrix\n",
    "print(\"directed matrix\")\n",
    "for row in adj_list_to_matrix_dir(adj_list, nodes):\n",
    "    print(row)\n"
   ]
  },
  {
   "cell_type": "markdown",
   "id": "09b2c337",
   "metadata": {},
   "source": [
    "🔁 Convert Adjacency Matrix to Edge List (Directed)\n",
    "This function converts a directed graph represented by an adjacency matrix into an edge list.\n",
    "✅ Explanation: \n",
    "The matrix is scanned row by row.\n",
    "\n",
    "If matrix[i][j] == 1, it indicates a directed edge from nodes[i] → nodes[j].\n",
    "\n",
    "These edges are collected in the edge_list.\n",
    "\n",
    "🎯 This method helps visualize the directed connections between nodes."
   ]
  },
  {
   "cell_type": "code",
   "execution_count": null,
   "id": "55f58405",
   "metadata": {},
   "outputs": [
    {
     "name": "stdout",
     "output_type": "stream",
     "text": [
      "Adjancey_list\n",
      "[('s1', 's2'), ('s1', 's5'), ('s2', 's1'), ('s2', 's5'), ('s3', 's2'), ('s3', 's4'), ('s4', 's3'), ('s5', 's1'), ('s5', 's2')]\n"
     ]
    }
   ],
   "source": [
    "# Function to convert a directed adjacency matrix to an edge list\n",
    "def adj_matrix_to_edge_list_dir(matrix, nodes):\n",
    "    edge_list = []\n",
    "    # Loop over each cell of the matrix\n",
    "    for i in range(len(matrix)):\n",
    "        for j in range(len(matrix)):\n",
    "            # If there is an edge from node i to node j\n",
    "            if matrix[i][j] == 1:\n",
    "                # Append the edge (from nodes[i] to nodes[j]) to the edge list\n",
    "                edge_list.append((nodes[i], nodes[j]))\n",
    "    return edge_list\n",
    "\n",
    "# Example adjacency matrix (directed graph)\n",
    "matrix = [\n",
    "    [0, 1, 0, 0, 1],  \n",
    "    [1, 0, 0, 0, 1],  \n",
    "    [0, 1, 0, 1, 0],  \n",
    "    [0, 0, 1, 0, 0], \n",
    "    [1, 1, 0, 0, 0]   \n",
    "]\n",
    "nodes = ['s1', 's2', 's3', 's4', 's5']\n",
    "\n",
    "Adjancey_list = adj_matrix_to_edge_list_dir(matrix, nodes)\n",
    "print(\"Adjancey_list\")\n",
    "print(Adjancey_list)\n"
   ]
  },
  {
   "cell_type": "markdown",
   "id": "d7da8808",
   "metadata": {},
   "source": [
    "🔁 Convert Adjacency Matrix to Adjacency List\n",
    "This function converts an adjacency matrix representation of a graph into an adjacency list format.\n",
    "\n",
    "✅ Explanation:\n",
    "Loops through each row i of the matrix representing node nodes[i].\n",
    "\n",
    "If matrix[i][j] == 1, it adds nodes[j] to the adjacency list of nodes[i].\n",
    "\n",
    "Works for both directed and undirected graphs, depending on how the matrix is constructed.\n",
    "\n",
    "🧠 Great for converting matrix-based input to a dictionary-based structure for easier traversal."
   ]
  },
  {
   "cell_type": "code",
   "execution_count": 13,
   "id": "0fac1abb",
   "metadata": {},
   "outputs": [
    {
     "name": "stdout",
     "output_type": "stream",
     "text": [
      " Adjacency List: {'s1': ['s2', 's5'], 's2': ['s1', 's5'], 's3': ['s2', 's4'], 's4': ['s3'], 's5': ['s1', 's2']}\n"
     ]
    }
   ],
   "source": [
    "# Function to convert an adjacency matrix to an adjacency list\n",
    "def adj_matrix_to_adjancey_list(matrix, nodes):\n",
    "    adj_list = {}  # Initialize an empty dictionary to store the adjacency list\n",
    "    n = len(nodes)  # Get the number of nodes\n",
    "\n",
    "    # Iterate through each row of the matrix\n",
    "    for i in range(n):\n",
    "        adj_list[nodes[i]] = []  # Initialize an empty list for each node\n",
    "\n",
    "        # Check each column in the current row\n",
    "        for j in range(n):\n",
    "            if matrix[i][j] == 1:  # If there's an edge from node i to node j\n",
    "                adj_list[nodes[i]].append(nodes[j])  # Add the neighbor to the adjacency list\n",
    "\n",
    "    return adj_list  # Return the final adjacency list\n",
    "\n",
    "# Define the adjacency matrix\n",
    "matrix = [\n",
    "    [0, 1, 0, 0, 1],  \n",
    "    [1, 0, 0, 0, 1],\n",
    "    [0, 1, 0, 1, 0],  \n",
    "    [0, 0, 1, 0, 0],  \n",
    "    [1, 1, 0, 0, 0]   \n",
    "]\n",
    "\n",
    "nodes = ['s1', 's2', 's3', 's4', 's5']\n",
    "\n",
    "\n",
    "print(\" Adjacency List:\", adj_matrix_to_adjancey_list(matrix, nodes))\n"
   ]
  },
  {
   "cell_type": "markdown",
   "id": "8ce0ae93",
   "metadata": {},
   "source": [
    "<h4>Given a graph and two vertices, check if they are adjacent.</h4>\n",
    "\n",
    "🎯 Adjacency Checker –\n",
    "This code determines whether two nodes are adjacent by:\n",
    "\n",
    "Scanning through an edge list to see if both nodes appear in the same edge.\n",
    "\n",
    "Supporting both adjacency list and adjacency matrix inputs by converting them to edge lists first.\n",
    "\n",
    "It's a quick utility to verify direct connections in any graph format."
   ]
  },
  {
   "cell_type": "code",
   "execution_count": 15,
   "id": "e731f72c",
   "metadata": {},
   "outputs": [
    {
     "data": {
      "text/plain": [
       "'not adjacent'"
      ]
     },
     "execution_count": 15,
     "metadata": {},
     "output_type": "execute_result"
    }
   ],
   "source": [
    "# Given a graph and two vertices, check if they are adjacent (i.e., directly connected)\n",
    "def find_adjacent(v1, v2, edge_list):\n",
    "    for i in range(len(edge_list)):  # Loop through all edges in the edge list\n",
    "        if v1 in edge_list[i]:  # Check if v1 is part of the current edge\n",
    "            if v2 in edge_list[i]:  # If v2 is also part of the same edge\n",
    "                return \"adjacent\"  # Then they are adjacent\n",
    "        else:\n",
    "            return \"not adjacent\"  # If v1 not found in this edge, return not adjacent (Note: This will exit too early)\n",
    "\n",
    "# This function checks adjacency from an adjacency list\n",
    "def for_adjacent_list(adjacent_list):\n",
    "    edge_list = adjancey_to_edge_directed(adjacent_list)  # Convert adjacency list to edge list\n",
    "    req_result = find_adjacent(edge_list)  # Check adjacency using the edge list\n",
    "    return req_result\n",
    "\n",
    "# This function checks adjacency from an adjacency matrix\n",
    "def for_adjacent_matrix(adjacent_matrice):\n",
    "    edge_list = edge_list_matrix_undirected(adjacent_matrice)  # Convert matrix to edge list\n",
    "    req_result = find_adjacent(edge_list)  # Check adjacency using the edge list\n",
    "    return req_result\n",
    "\n",
    "# Direct function call to check if 's4' and 's2' are adjacent using an edge list\n",
    "find_adjacent('s4', 's2', edge_list=[('s1', 's2', 's5'), ('s2', 's5', 's1'), ('s3', 's2', 's4'), ('s4', 's3'), ('s5', 's1', 's2')])\n"
   ]
  },
  {
   "cell_type": "markdown",
   "id": "2bf416e6",
   "metadata": {},
   "source": [
    "🔍 Graph Connectivity Check (BFS Approach)\n",
    "This function determines whether an undirected graph is fully connected by performing a Breadth-First Search (BFS) starting from the first node in the list.\n",
    "\n",
    "It traverses all reachable nodes.\n",
    "\n",
    "Compares the set of visited nodes to the full set of nodes.\n",
    "\n",
    "✅ Output:\n",
    "\"Graph is connected\" — if all nodes are reachable.\n",
    "\n",
    "\"Graph is not connected\" — if any node is unreachable."
   ]
  },
  {
   "cell_type": "code",
   "execution_count": null,
   "id": "950195b2",
   "metadata": {},
   "outputs": [
    {
     "data": {
      "text/plain": [
       "'Graph is connected graph'"
      ]
     },
     "execution_count": 16,
     "metadata": {},
     "output_type": "execute_result"
    }
   ],
   "source": [
    "# Function to check if the graph is connected or not.\n",
    "def _is_connected(adjancey_list, node_list):\n",
    "    queue = [node_list[0]]  # Start from the first node in the node list\n",
    "    visited_list = []  # This will keep track of visited nodes\n",
    "\n",
    "    while queue:  # Loop until the queue is empty\n",
    "        node = queue.pop(0)  # Remove the first node from the queue\n",
    "        if node not in visited_list:  # If the node hasn't been visited\n",
    "            visited_list.append(node)  # Mark it as visited\n",
    "            for neighbor in adjancey_list[node]:  # Traverse all its neighbors\n",
    "                if neighbor not in visited_list:  # If neighbor not visited\n",
    "                    queue.append(neighbor)  # Add neighbor to the queue\n",
    "\n",
    "    # After BFS, check if all nodes were visited\n",
    "    if set(visited_list) == set(node_list):  \n",
    "        return \"Graph is connected graph\"  # All nodes reachable, so graph is connected\n",
    "    else:\n",
    "        return \"Graph is not connected graph\"  # Some nodes were not reachable, so not connected\n",
    "\n",
    "# Sample adjacency list representing the graph\n",
    "adjancey_list = {\n",
    "    1: [2, 3],\n",
    "    2: [1, 4],\n",
    "    3: [1, 5],\n",
    "    4: [2, 5],\n",
    "    5: [3, 4]\n",
    "}\n",
    "\n",
    "# List of all nodes in the graph\n",
    "node_list = [1, 2, 3, 4, 5]\n",
    "\n",
    "# Calling the function to check connectivity\n",
    "_is_connected(adjancey_list, node_list)\n"
   ]
  },
  {
   "cell_type": "markdown",
   "id": "1b65efcc",
   "metadata": {},
   "source": [
    "### ✅ Graph Completeness Checker \n",
    "\n",
    "This function verifies if a graph is complete by ensuring:\n",
    "- No self-loops exist.\n",
    "- Every node connects to all others with mutual (bidirectional) links.\n"
   ]
  },
  {
   "cell_type": "code",
   "execution_count": 6,
   "id": "89f621ff",
   "metadata": {},
   "outputs": [
    {
     "data": {
      "text/plain": [
       "'graph is not complete'"
      ]
     },
     "execution_count": 6,
     "metadata": {},
     "output_type": "execute_result"
    }
   ],
   "source": [
    "#  Function to check whether a given graph (via adjacency list) is a complete graph\n",
    "def is_complete(adjancey_list, node_list):\n",
    "    #  Check for self-loops — a complete graph should not have any node pointing to itself\n",
    "    for node in node_list:\n",
    "        if node in adjancey_list[node]:\n",
    "            return \"not complete\"  #  Found a self-loop\n",
    "\n",
    "    #Loop through each node and check completeness conditions\n",
    "    for key, value in adjancey_list.items():\n",
    "        #  A complete graph should have (n-1) neighbors for each node\n",
    "        if len(adjancey_list[key]) != len(node_list) - 1:\n",
    "            return \"graph is not complete\"\n",
    "        \n",
    "        #  Check mutual connections — if A connects to B, then B should also connect to A\n",
    "        for neighbor in adjancey_list[key]:\n",
    "            if key not in adjancey_list[neighbor]:\n",
    "                return \"not complete graph\"\n",
    "\n",
    "    #  If all conditions passed, then it's a complete graph\n",
    "    return \"graph is complete\"\n",
    "\n",
    "#  Example adjacency list representing a graph\n",
    "adjancey_list = {\n",
    "    1: [2, 3, 4, 5],  \n",
    "    2: [1, 3, 5],      \n",
    "    3: [1, 2, 4, 5], \n",
    "    4: [1, 2, 3, 5],\n",
    "    5: [1, 2, 3, 4] \n",
    "}\n",
    "node_list = [1, 2, 3, 4, 5]\n",
    "is_complete(adjancey_list, node_list)\n"
   ]
  },
  {
   "cell_type": "markdown",
   "id": "90190949",
   "metadata": {},
   "source": [
    "### ✅ Walk Checker in a Graph\n",
    "\n",
    "This function checks whether a given sequence of nodes forms a valid **walk** by verifying if consecutive node pairs are connected.  \n",
    "It uses an adjacency matrix and supports undirected graphs.\n"
   ]
  },
  {
   "cell_type": "code",
   "execution_count": 14,
   "id": "dfce13b0",
   "metadata": {},
   "outputs": [
    {
     "data": {
      "text/plain": [
       "'walk'"
      ]
     },
     "execution_count": 14,
     "metadata": {},
     "output_type": "execute_result"
    }
   ],
   "source": [
    "# ✅ Function to check if a given sequence of nodes forms a valid walk in a graph\n",
    "def walk_function(matrix, walk_list):\n",
    "    # Create consecutive node pairs: (0,1), (1,4), (4,3), ...\n",
    "    pairs = zip(walk_list, walk_list[1:])\n",
    "    \n",
    "    for x, y in pairs:\n",
    "        #  Check if there is an edge between node x and y (undirected graph)\n",
    "        if matrix[x][y] == 1 or matrix[y][x] == 1:\n",
    "            continue  # Connection exists, continue checking\n",
    "        else:\n",
    "            return \"not a walk\"  #  If any connection is missing → not a valid walk\n",
    "    return \"walk\"  #  All steps valid → it's a walk\n",
    "\n",
    "#  Adjacency matrix of the graph\n",
    "graph = [\n",
    "  [0, 1, 0, 1, 0], \n",
    "  [1, 0, 1, 0, 1], \n",
    "  [0, 1, 0, 0, 0],\n",
    "  [1, 0, 0, 0, 1], \n",
    "  [0, 1, 0, 1, 0]\n",
    "]\n",
    "\n",
    "# 📝 List of nodes to check as a walk\n",
    "walk_list = [0, 1, 4, 3, 0]\n",
    "\n",
    "# 🧪 Run the function\n",
    "walk_function(graph, walk_list)\n"
   ]
  },
  {
   "cell_type": "markdown",
   "id": "2ff1d26b",
   "metadata": {},
   "source": [
    "### ✅ Trail Checker in a Graph\n",
    "\n",
    "This function checks if a sequence of vertices forms a **trail** by verifying if each edge is valid and not repeated.  \n",
    "It uses an adjacency matrix and ensures no edge is reused in the sequence.\n"
   ]
  },
  {
   "cell_type": "code",
   "execution_count": 15,
   "id": "fa509043",
   "metadata": {},
   "outputs": [
    {
     "data": {
      "text/plain": [
       "'not a trail'"
      ]
     },
     "execution_count": 15,
     "metadata": {},
     "output_type": "execute_result"
    }
   ],
   "source": [
    "# Function to check if the given sequence of nodes forms a valid trail\n",
    "def check_trail(node_list, graph):\n",
    "    visited_edges = set()  # 🔍 Track edges that are already used\n",
    "\n",
    "    for i in range(len(node_list) - 1):\n",
    "        #  If there's no direct edge between two nodes, it's not a trail\n",
    "        if graph[node_list[i] - 1][node_list[i + 1] - 1] == 0:  \n",
    "            return \"not a trail\"\n",
    "        \n",
    "        # 🧩 Represent the edge as a sorted tuple (for undirected edges)\n",
    "        edge = tuple(sorted((node_list[i], node_list[i + 1])))\n",
    "\n",
    "        #  Trail should not reuse the same edge\n",
    "        if edge not in visited_edges:\n",
    "            visited_edges.add(edge)\n",
    "        else:\n",
    "            return \"not a trail\"  #  Edge already used\n",
    "\n",
    "    return \"valid trail\"  # All edges used only once, and all nodes connected\n",
    "\n",
    "\n",
    "graph = [\n",
    "    [0, 1, 0, 1, 0], \n",
    "    [1, 0, 1, 0, 1],  \n",
    "    [0, 1, 0, 0, 0],    \n",
    "    [1, 0, 0, 0, 1],  \n",
    "    [0, 1, 0, 0, 0] \n",
    "]\n",
    "\n",
    "# 📝 Sequence of nodes to check\n",
    "node_list = [1, 2, 3, 4, 5]\n",
    "\n",
    "# 🧪 Run the function\n",
    "check_trail(node_list, graph)\n"
   ]
  },
  {
   "cell_type": "markdown",
   "id": "05678ead",
   "metadata": {},
   "source": [
    "### ✅ Path Checker in a Graph\n",
    "\n",
    "This function checks whether a node sequence forms a **path** by verifying valid edges, no edge reuse, and no revisiting nodes.  \n",
    "It ensures all transitions follow directed connections from the adjacency matrix.\n"
   ]
  },
  {
   "cell_type": "code",
   "execution_count": 16,
   "id": "f7e793a0",
   "metadata": {},
   "outputs": [
    {
     "data": {
      "text/plain": [
       "'not valid path'"
      ]
     },
     "execution_count": 16,
     "metadata": {},
     "output_type": "execute_result"
    }
   ],
   "source": [
    "# Function to check if the given node sequence forms a valid path\n",
    "def check_path(nodelist, graph):\n",
    "    edge_list1 = []  # To track visited edges\n",
    "    node_list = []   # To track visited node pairs\n",
    "\n",
    "    #  A path must have at least two nodes\n",
    "    if len(nodelist) < 2:\n",
    "        return \"not a path\"\n",
    "\n",
    "    for i in range(len(nodelist) - 1):\n",
    "        # If there's no edge between two nodes, it's not a valid path\n",
    "        if graph[nodelist[i] - 1][nodelist[i + 1] - 1] != 1:\n",
    "            return \"not valid path\"\n",
    "\n",
    "        # Check if node pair has already been visited (ensuring all nodes are unique)\n",
    "        if nodelist[i] and nodelist[i + 1] not in node_list:\n",
    "            node_list.append((nodelist[i], nodelist[i + 1]))\n",
    "        else:\n",
    "            return \"not a valid path\"\n",
    "\n",
    "        #  Check for edge repetition (a path cannot reuse edges)\n",
    "        if (nodelist[i], nodelist[i + 1]) not in edge_list1:\n",
    "            edge_list1.append((nodelist[i], nodelist[i + 1]))\n",
    "        else:\n",
    "            return \"not valid path\"\n",
    "\n",
    "    return \"valid path\"  # All conditions met — it's a valid path\n",
    "\n",
    "#  Directed graph (adjacency matrix)\n",
    "graph = [   \n",
    "    [0, 0, 0, 0],       \n",
    "    [1, 0, 1, 0],  \n",
    "    [0, 0, 0, 0],  \n",
    "    [0, 0, 0, 0]   \n",
    "]\n",
    "\n",
    "#  Sequence of nodes to check\n",
    "nodelist = [1, 2, 3, 4]\n",
    "\n",
    "#  Run the path checker\n",
    "check_path(nodelist, graph)\n"
   ]
  },
  {
   "cell_type": "code",
   "execution_count": null,
   "id": "5c19ca41",
   "metadata": {},
   "outputs": [
    {
     "name": "stdout",
     "output_type": "stream",
     "text": [
      "none of these\n"
     ]
    }
   ],
   "source": [
    "#  Determines the type of walk in a graph: walk, trail, path, or none\n",
    "def determine_walk_type(graph, walk_list):\n",
    "    # First, check if it's even a walk\n",
    "    if walk_function(graph, walk_list) != \"walk\":\n",
    "        return \"not a walk\"\n",
    "\n",
    "    # Then check if it's a path (no repeated vertices or edges)\n",
    "    if check_path(walk_list, graph) == \"valid path\":\n",
    "        return \"valid path\"\n",
    "\n",
    "    # Then check if it's a trail (no repeated edges, vertices may repeat)\n",
    "    if check_trail(walk_list, graph) == \"valid trail\":\n",
    "        return \"valid trail (not path)\"\n",
    "\n",
    "    # If none of the above\n",
    "    else:\n",
    "        return \"none of these\"\n",
    "\n",
    "#  Undirected graph as adjacency matrix\n",
    "graph = [\n",
    "    [0, 1, 0, 1, 0], \n",
    "    [1, 0, 1, 0, 1], \n",
    "    [0, 1, 0, 0, 0],\n",
    "    [1, 0, 0, 0, 1], \n",
    "    [0, 1, 0, 1, 0]\n",
    "]\n",
    "\n",
    "# 🚶‍♀️ A walk (sequence of nodes) to classify\n",
    "walk_list = [0, 1, 4, 3, 0]\n",
    "\n",
    "#  Run the type-check function\n",
    "print(determine_walk_type(graph, walk_list))\n"
   ]
  },
  {
   "cell_type": "markdown",
   "id": "b461a2a1",
   "metadata": {},
   "source": [
    ":\n",
    "\n",
    "🌳 find_height(graph, node) – Find Tree Height from Root Node\n",
    "This function recursively calculates the height of a rooted tree, where:\n",
    "\n",
    "graph is a dictionary representing the tree as an adjacency list.\n",
    "\n",
    "node is the starting/root node from which height is calculated.\n",
    "\n",
    "🔧 How it works:\n",
    "If a node has no children ([]), it returns 0 (leaf node).\n",
    "\n",
    "Otherwise, it returns 1 + max(height of all child nodes).\n",
    "\n"
   ]
  },
  {
   "cell_type": "code",
   "execution_count": 18,
   "id": "3a60c611",
   "metadata": {},
   "outputs": [
    {
     "data": {
      "text/plain": [
       "2"
      ]
     },
     "execution_count": 18,
     "metadata": {},
     "output_type": "execute_result"
    }
   ],
   "source": [
    "# Function to find the height of a given node in a tree represented by an adjacency list\n",
    "def find_height(graph, node):    \n",
    "    # Base case: if the node has no children (i.e., it's a leaf)\n",
    "    if not graph[node]:\n",
    "        return 0        \n",
    "    else:     \n",
    "        heights = []  # List to store heights of all child nodes\n",
    "        for child in graph[node]:\n",
    "            h = find_height(graph, child)  # Recursively find height of each child\n",
    "            heights.append(h)\n",
    "            height = 1 + max(heights)  # Height of current node = 1 + max child height\n",
    "        return height  \n",
    "\n",
    "# Sample tree structure as an adjacency list\n",
    "graph = {  \n",
    "    'A': ['B', 'C'],         \n",
    "    'B': ['D', 'E'],      \n",
    "    'C': ['F'],    \n",
    "    'D': [], \n",
    "    'E': [],   \n",
    "    'F': []      \n",
    "}      \n",
    "\n",
    "# Find the height of node 'A'\n",
    "node = 'A'  \n",
    "find_height(graph, node)\n"
   ]
  },
  {
   "cell_type": "markdown",
   "id": "211ec9e9",
   "metadata": {},
   "source": [
    ":\n",
    "\n",
    "🌳 Tree Depth using DFS\n",
    "Recursively traverses the tree to find the maximum depth from the root.\n",
    "\n",
    "Ignores the parent node during recursion to avoid backtracking.\n",
    "\n",
    "Returns the longest path from the root to any leaf node.\n",
    "\n"
   ]
  },
  {
   "cell_type": "code",
   "execution_count": 24,
   "id": "53ff9b83",
   "metadata": {},
   "outputs": [
    {
     "name": "stdout",
     "output_type": "stream",
     "text": [
      "Depth of the tree: 3\n"
     ]
    }
   ],
   "source": [
    "# Function to find the depth of a tree using Depth First Search (DFS)\n",
    "def dfs(current, parent):\n",
    "    max_depth = 0  # Initialize max depth to track the deepest node\n",
    "    \n",
    "    # Traverse through all children of the current node\n",
    "    for child in adj_list[current]:\n",
    "        # Skip the parent node to avoid going backwards\n",
    "        if child != parent:\n",
    "            # Recursively calculate the depth of each child node\n",
    "            depth = dfs(child, current)\n",
    "            # Update max_depth with the maximum depth from child nodes\n",
    "            max_depth = max(max_depth, depth)\n",
    "    \n",
    "    # Return the depth of the current node, adding 1 to account for the current node itself\n",
    "    return max_depth + 1\n",
    "adj_list = {\n",
    "    0: [1, 2],  \n",
    "    1: [0, 3, 4], \n",
    "    2: [0],  \n",
    "    3: [1],  \n",
    "    4: [1] }\n",
    "depth = dfs(0, -1)  \n",
    "print(\"Depth of the tree:\", depth)\n",
    "\n"
   ]
  },
  {
   "cell_type": "markdown",
   "id": "d095be1a",
   "metadata": {},
   "source": [
    "🌳 Graph Tree Check – Markdown Summary\n",
    "This function determines whether a given undirected graph is a tree by validating two key conditions:\n",
    "\n",
    "✅ Connectivity: All nodes must be reachable from a starting point using Depth-First Search (DFS).\n",
    "\n",
    "🔁 Acyclic Nature: The graph must not contain any cycles (ensured using a parent check during DFS).\n",
    "\n",
    "📐 Edge Count: For n nodes, the graph must contain exactly n - 1 edges."
   ]
  },
  {
   "cell_type": "code",
   "execution_count": 21,
   "id": "2a436133",
   "metadata": {},
   "outputs": [
    {
     "name": "stdout",
     "output_type": "stream",
     "text": [
      "cycle exist, not a tree\n"
     ]
    }
   ],
   "source": [
    "# Function to check if a given graph is a tree\n",
    "def is_tree(adjancey_list, node_list):\n",
    "    total = 0  # Initialize a variable to accumulate the total number of edges\n",
    "\n",
    "    # Loop through the adjacency list to calculate the total number of edges\n",
    "    for value in adjancey_list.values():\n",
    "        length = len(value)  # Get the number of neighbors for the current node\n",
    "        total = total + length  # Add it to the total edge count\n",
    "\n",
    "    # Since the graph is undirected, each edge is counted twice, so divide by 2\n",
    "    edge_count = total // 2\n",
    "\n",
    "    # A tree should have exactly len(node_list) - 1 edges\n",
    "    if len(node_list) - 1 != edge_count:\n",
    "        return \"not a tree as wrong number of edges\"  # If not, it's not a tree\n",
    "\n",
    "    # Initialize data structures for traversal\n",
    "    parent = {}  # Dictionary to store the parent of each node\n",
    "    visited_list = []  # List to track visited nodes during process\n",
    "    stack = []  # Stack for traversal\n",
    "\n",
    "    # Start from the first node in the node list\n",
    "    i = node_list[0]\n",
    "    stack.append(i)  # Push the starting node onto the stack\n",
    "    parent[i] = -1  # The root node has no parent, so its parent is set to -1\n",
    "\n",
    "    # To check for cycles and connectivity\n",
    "    while stack:\n",
    "        current = stack.pop()  # Pop the top node from the stack\n",
    "        if current not in visited_list:  # If the node hasn't been visited\n",
    "            visited_list.append(current)  # Mark it as visited\n",
    "            # Iterate over all neighbors of the current node\n",
    "            for value in adjancey_list.get(current, []):\n",
    "                if value not in visited_list:  # If the neighbor hasn't been visited\n",
    "                    parent[value] = current  # Assign the current node as its parent\n",
    "                    stack.append(value)  # Push the neighbor onto the stack\n",
    "                elif parent[current] != value:  # If the neighbor is visited and not the parent\n",
    "                    return \"cycle exist, not a tree\"  # This means a cycle exists, so it's not a tree\n",
    "\n",
    "    # Check if all nodes were visited (i.e., the graph is connected)\n",
    "    if len(node_list) == len(visited_list):\n",
    "        return \"graph is connected hence tree\"  # If all nodes were visited, it's a tree\n",
    "    else:\n",
    "        return \"not connected, hence not a tree\"  # If not all nodes were visited, it's not connected\n",
    "\n",
    "\n",
    "node_list = [0, 1, 2, 3, 4]\n",
    "graph = {\n",
    "    0: [1, 2], \n",
    "    1: [0, 2, 3],  \n",
    "    2: [0, 1],  \n",
    "    3: [1]  \n",
    "}\n",
    "print(is_tree(graph, node_list))  "
   ]
  },
  {
   "cell_type": "markdown",
   "id": "973b5fe6",
   "metadata": {},
   "source": [
    "🍃 Count Leaf Nodes – Markdown Summary\n",
    "This function calculates the number of leaf nodes in a tree.\n",
    "\n",
    "A leaf node is defined as a node that has no children (i.e., its value is an empty list in the adjacency representation).\n",
    "\n",
    "The function loops through each node and counts those with no children, returning the total leaf count."
   ]
  },
  {
   "cell_type": "code",
   "execution_count": null,
   "id": "d745c010",
   "metadata": {},
   "outputs": [
    {
     "data": {
      "text/plain": [
       "3"
      ]
     },
     "execution_count": 20,
     "metadata": {},
     "output_type": "execute_result"
    }
   ],
   "source": [
    "# Function to count the number of leaf nodes in a tree\n",
    "def count_leaf_node(graph):\n",
    "    count = 0  # Initialize the count of leaf nodes to 0\n",
    "    \n",
    "    # Loop through each node (parent) and its list of children\n",
    "    for parent, child in graph.items():\n",
    "        # A leaf node is a node that has no children (empty list)\n",
    "        if graph[parent] == []:  \n",
    "            count += 1  # Increment the leaf node count if no children\n",
    "    \n",
    "    # Return the total number of leaf nodes\n",
    "    return count\n",
    "\n",
    "graph = {\n",
    "    0: [1, 2],  \n",
    "    1: [3, 4], \n",
    "    2: [],       \n",
    "    3: [],      \n",
    "    4: []       \n",
    "}\n",
    "count_leaf_node(graph)  \n"
   ]
  },
  {
   "cell_type": "markdown",
   "id": "7e618127",
   "metadata": {},
   "source": [
    "🌳 Binary Tree Check\n",
    "check_binary_2() correctly checks if each node has ≤2 children, validating binary tree structure.\n",
    "\n",
    "check_binary_1() returns early and may not check all nodes, so it's less reliable.\n",
    "\n",
    "A binary tree must have 0, 1, or 2 children per node."
   ]
  },
  {
   "cell_type": "code",
   "execution_count": 19,
   "id": "59e79d61",
   "metadata": {},
   "outputs": [
    {
     "name": "stdout",
     "output_type": "stream",
     "text": [
      "given graph is binary tree\n",
      "given graph is not a binary tree\n",
      "None\n"
     ]
    }
   ],
   "source": [
    "# Function to check if a tree is a binary tree (first version)\n",
    "def check_binary_1(graph, parent):\n",
    "    while parent is not None:\n",
    "        # Looping through each node (parent) and its children in the graph\n",
    "        for parent, child in graph.items():\n",
    "            # A binary tree can have 0, 1, or 2 children\n",
    "            if len(child) == 0 or len(child) == 1 or len(child) == 2:\n",
    "                return \"given graph is binary tree\"\n",
    "            else:\n",
    "                return \"given graph is not a binary tree\"\n",
    "\n",
    "# Graph representation as an adjacency list\n",
    "graph = {\n",
    "    0: [1, 2],\n",
    "    1: [3, 4],\n",
    "    2: [],\n",
    "    3: [],\n",
    "    4: []\n",
    "}\n",
    "\n",
    "# Call the function to check if it's a binary tree\n",
    "result_1 = check_binary_1(graph, 1)\n",
    "print(result_1)\n",
    "\n",
    "# Function to check if a tree is a binary tree (improved version)\n",
    "def check_binary_2(graph, parent):\n",
    "    # Loop through every node and its children\n",
    "    for parent, child in graph.items():\n",
    "        # If any node has more than 2 children, it's not a binary tree\n",
    "        if len(child) > 2:\n",
    "            return \"given graph is not a binary tree\"\n",
    "    # If all nodes have 0, 1, or 2 children, it's a binary tree\n",
    "    return \"given graph is binary tree\"\n",
    "\n",
    "# Another graph with a node that has more than 2 children (not a binary tree)\n",
    "graph = {\n",
    "    0: [1, 2, 7, 0],  # Node 0 has 4 children – violates binary tree rule\n",
    "    1: [3, 4],\n",
    "    2: [],\n",
    "    3: [],\n",
    "    4: []\n",
    "}\n",
    "\n",
    "# Call the improved function and print result\n",
    "result_2 = print(check_binary_2(graph, 0))  # This line prints directly\n",
    "print(result_2)  # This will print None because previous line already prints the result\n",
    "\n"
   ]
  },
  {
   "cell_type": "markdown",
   "id": "665e84ce",
   "metadata": {},
   "source": [
    "🌐 Spanning Tree Check\n",
    "Uses BFS to verify if all nodes are reachable from a starting node.\n",
    "\n",
    "If all nodes are visited once, the graph is connected and can be a spanning tree.\n",
    "\n",
    "Assumes the graph is already a tree (i.e., no cycles)."
   ]
  },
  {
   "cell_type": "code",
   "execution_count": null,
   "id": "06c4e274",
   "metadata": {},
   "outputs": [
    {
     "data": {
      "text/plain": [
       "True"
      ]
     },
     "execution_count": 18,
     "metadata": {},
     "output_type": "execute_result"
    }
   ],
   "source": [
    "from collections import deque  # Importing deque for efficient queue operations\n",
    "\n",
    "# Function to check if the given graph is a spanning tree\n",
    "def is_spanning(graph, node_list):\n",
    "    visited_list = set()         # Set to keep track of visited nodes\n",
    "    queue = deque()              # Initialize a queue for BFS traversal\n",
    "    queue.append(node_list[0])   # Start BFS from the first node in the node_list\n",
    "\n",
    "    while queue:\n",
    "        current = queue.pop()    # Take the last element from the queue (can use popleft for standard BFS)\n",
    "        visited_list.add(current)  # Mark current node as visited\n",
    "\n",
    "        for neighbor in graph[current]:  # Go through all neighbors of current node\n",
    "            if neighbor not in visited_list:\n",
    "                queue.append(neighbor)      # Add unvisited neighbor to the queue\n",
    "                visited_list.add(neighbor)  # Also mark it as visited (prevents re-adding)\n",
    "\n",
    "    # If the number of visited nodes equals total nodes, it's a spanning tree\n",
    "    return len(visited_list) == len(node_list)\n",
    "\n",
    "graph = {\n",
    "    'A': ['B', 'C'],\n",
    "    'B': ['A', 'C', 'D'],\n",
    "    'C': ['A', 'B', 'D'],  \n",
    "    'D': ['B', 'C']\n",
    "}\n",
    "\n",
    "# List of nodes in the graph\n",
    "node_list = ['A', 'B', 'C', 'D']  \n",
    "\n",
    "# Function call to check if the graph forms a spanning tree\n",
    "is_spanning(graph, node_list)\n"
   ]
  },
  {
   "cell_type": "code",
   "execution_count": null,
   "id": "49ccaac1",
   "metadata": {},
   "outputs": [],
   "source": []
  }
 ],
 "metadata": {
  "kernelspec": {
   "display_name": "Python 3",
   "language": "python",
   "name": "python3"
  },
  "language_info": {
   "codemirror_mode": {
    "name": "ipython",
    "version": 3
   },
   "file_extension": ".py",
   "mimetype": "text/x-python",
   "name": "python",
   "nbconvert_exporter": "python",
   "pygments_lexer": "ipython3",
   "version": "3.12.5"
  }
 },
 "nbformat": 4,
 "nbformat_minor": 5
}
